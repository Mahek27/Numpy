{
 "cells": [
  {
   "cell_type": "code",
   "execution_count": 1,
   "metadata": {},
   "outputs": [],
   "source": [
    "import pandas as pd\n",
    "import matplotlib.pyplot as plt\n",
    "%matplotlib inline"
   ]
  },
  {
   "cell_type": "code",
   "execution_count": 2,
   "metadata": {
    "scrolled": true
   },
   "outputs": [
    {
     "name": "stdout",
     "output_type": "stream",
     "text": [
      "+-----+---------+---------------+\n",
      "| Name|     Role|Account_Balance|\n",
      "+-----+---------+---------------+\n",
      "|  bob|Developer|           null|\n",
      "| mark|Developer|         125000|\n",
      "|  bob|Developer|           null|\n",
      "|peter|Developer|         185000|\n",
      "|  jon|   Tester|          65000|\n",
      "|  jon|   Tester|          65000|\n",
      "|simon|Developer|          98000|\n",
      "| eric|Developer|          85000|\n",
      "|henry|Developer|         110000|\n",
      "+-----+---------+---------------+\n",
      "\n"
     ]
    }
   ],
   "source": [
    "sampleData = [(\"bob\",\"Developer\",None),(\"mark\",\"Developer\",125000),(\"bob\",\"Developer\",None),(\"peter\",\"Developer\",185000),(\"jon\",\"Tester\",65000),(\"jon\",\"Tester\",65000),(\"simon\",\"Developer\",98000),(\"eric\",\"Developer\",85000),(\"henry\",\"Developer\",110000)]\n",
    "\n",
    "df1 = spark.createDataFrame(sampleData, schema=[\"Name\",\"Role\",\"Account_Balance\"])\n",
    "df1.show()"
   ]
  },
  {
   "cell_type": "code",
   "execution_count": 3,
   "metadata": {},
   "outputs": [
    {
     "data": {
      "text/plain": [
       "[98000.0]"
      ]
     },
     "execution_count": 3,
     "metadata": {},
     "output_type": "execute_result"
    }
   ],
   "source": [
    "med = df1.approxQuantile(\"Account_Balance\", [0.5], 0.25)\n",
    "med"
   ]
  },
  {
   "cell_type": "code",
   "execution_count": 4,
   "metadata": {},
   "outputs": [
    {
     "name": "stdout",
     "output_type": "stream",
     "text": [
      "+-----+---------+---------------+\n",
      "| Name|     Role|Account_Balance|\n",
      "+-----+---------+---------------+\n",
      "|simon|Developer|          98000|\n",
      "|  bob|Developer|           null|\n",
      "|  jon|   Tester|          65000|\n",
      "| mark|Developer|         125000|\n",
      "| eric|Developer|          85000|\n",
      "|henry|Developer|         110000|\n",
      "|peter|Developer|         185000|\n",
      "+-----+---------+---------------+\n",
      "\n"
     ]
    }
   ],
   "source": [
    "df1.select(\"Name\",\"Role\",\"Account_Balance\").dropDuplicates().show()"
   ]
  },
  {
   "cell_type": "code",
   "execution_count": 5,
   "metadata": {},
   "outputs": [
    {
     "name": "stdout",
     "output_type": "stream",
     "text": [
      "+-----+---------+---------------+\n",
      "| Name|     Role|Account_Balance|\n",
      "+-----+---------+---------------+\n",
      "|  bob|Developer|           null|\n",
      "| mark|Developer|         125000|\n",
      "|  bob|Developer|           null|\n",
      "|peter|Developer|         185000|\n",
      "|  jon|   Tester|          65000|\n",
      "|  jon|   Tester|          65000|\n",
      "|simon|Developer|          98000|\n",
      "| eric|Developer|          85000|\n",
      "|henry|Developer|         110000|\n",
      "+-----+---------+---------------+\n",
      "\n",
      "+---------+------+\n",
      "|     Role|Salary|\n",
      "+---------+------+\n",
      "|Developer|  6000|\n",
      "|   Tester|  4500|\n",
      "+---------+------+\n",
      "\n"
     ]
    }
   ],
   "source": [
    "sampleData = [(\"bob\",\"Developer\",None),(\"mark\",\"Developer\",125000),(\"bob\",\"Developer\",None),(\"peter\",\"Developer\",185000),(\"jon\",\"Tester\",65000),(\"jon\",\"Tester\",65000),(\"simon\",\"Developer\",98000),(\"eric\",\"Developer\",85000),(\"henry\",\"Developer\",110000)]\n",
    "\n",
    "df1 = spark.createDataFrame(sampleData, schema=[\"Name\",\"Role\",\"Account_Balance\"])\n",
    "df1.show()\n",
    "\n",
    "sampleData2 = [(\"Developer\",6000),(\"Tester\",4500)]\n",
    "\n",
    "df2 = spark.createDataFrame(sampleData2, schema=[\"Role\",\"Salary\"])\n",
    "df2.show()\n",
    "\n"
   ]
  },
  {
   "cell_type": "code",
   "execution_count": 6,
   "metadata": {},
   "outputs": [],
   "source": [
    "df1 = pd.DataFrame({'Name': ['Bob', 'Jake', 'Lisa', 'Sue'],\n",
    "                    'role': ['Developer', 'Tester', 'Tester', 'Developer'],\n",
    "                   'Account_Balance': [125000, 85000, 90000,145000]})\n",
    "\n",
    "df2 = pd.DataFrame({'Name': ['Lisa', 'Bob', 'Jake', 'Sue'],\n",
    "                    'Salary': [5000, 3500, 4000, 6000]})\n"
   ]
  },
  {
   "cell_type": "code",
   "execution_count": 7,
   "metadata": {},
   "outputs": [
    {
     "data": {
      "text/html": [
       "<div>\n",
       "<style scoped>\n",
       "    .dataframe tbody tr th:only-of-type {\n",
       "        vertical-align: middle;\n",
       "    }\n",
       "\n",
       "    .dataframe tbody tr th {\n",
       "        vertical-align: top;\n",
       "    }\n",
       "\n",
       "    .dataframe thead th {\n",
       "        text-align: right;\n",
       "    }\n",
       "</style>\n",
       "<table border=\"1\" class=\"dataframe\">\n",
       "  <thead>\n",
       "    <tr style=\"text-align: right;\">\n",
       "      <th></th>\n",
       "      <th>Name</th>\n",
       "      <th>role</th>\n",
       "      <th>Account_Balance</th>\n",
       "      <th>Salary</th>\n",
       "    </tr>\n",
       "  </thead>\n",
       "  <tbody>\n",
       "    <tr>\n",
       "      <th>0</th>\n",
       "      <td>Bob</td>\n",
       "      <td>Developer</td>\n",
       "      <td>125000</td>\n",
       "      <td>3500</td>\n",
       "    </tr>\n",
       "    <tr>\n",
       "      <th>1</th>\n",
       "      <td>Jake</td>\n",
       "      <td>Tester</td>\n",
       "      <td>85000</td>\n",
       "      <td>4000</td>\n",
       "    </tr>\n",
       "    <tr>\n",
       "      <th>2</th>\n",
       "      <td>Lisa</td>\n",
       "      <td>Tester</td>\n",
       "      <td>90000</td>\n",
       "      <td>5000</td>\n",
       "    </tr>\n",
       "    <tr>\n",
       "      <th>3</th>\n",
       "      <td>Sue</td>\n",
       "      <td>Developer</td>\n",
       "      <td>145000</td>\n",
       "      <td>6000</td>\n",
       "    </tr>\n",
       "  </tbody>\n",
       "</table>\n",
       "</div>"
      ],
      "text/plain": [
       "   Name       role  Account_Balance  Salary\n",
       "0   Bob  Developer           125000    3500\n",
       "1  Jake     Tester            85000    4000\n",
       "2  Lisa     Tester            90000    5000\n",
       "3   Sue  Developer           145000    6000"
      ]
     },
     "execution_count": 7,
     "metadata": {},
     "output_type": "execute_result"
    }
   ],
   "source": [
    "result = pd.merge(df1,\n",
    "                 df2[['Name', 'Salary']],\n",
    "                 on='Name')\n",
    "result.head()"
   ]
  },
  {
   "cell_type": "code",
   "execution_count": 8,
   "metadata": {},
   "outputs": [],
   "source": [
    "from pyspark.sql.functions import rand"
   ]
  },
  {
   "cell_type": "code",
   "execution_count": 9,
   "metadata": {},
   "outputs": [
    {
     "data": {
      "text/html": [
       "<div>\n",
       "<style scoped>\n",
       "    .dataframe tbody tr th:only-of-type {\n",
       "        vertical-align: middle;\n",
       "    }\n",
       "\n",
       "    .dataframe tbody tr th {\n",
       "        vertical-align: top;\n",
       "    }\n",
       "\n",
       "    .dataframe thead th {\n",
       "        text-align: right;\n",
       "    }\n",
       "</style>\n",
       "<table border=\"1\" class=\"dataframe\">\n",
       "  <thead>\n",
       "    <tr style=\"text-align: right;\">\n",
       "      <th></th>\n",
       "      <th>Account_Balance</th>\n",
       "      <th>Salary</th>\n",
       "    </tr>\n",
       "  </thead>\n",
       "  <tbody>\n",
       "    <tr>\n",
       "      <th>Account_Balance</th>\n",
       "      <td>1.000000</td>\n",
       "      <td>0.412682</td>\n",
       "    </tr>\n",
       "    <tr>\n",
       "      <th>Salary</th>\n",
       "      <td>0.412682</td>\n",
       "      <td>1.000000</td>\n",
       "    </tr>\n",
       "  </tbody>\n",
       "</table>\n",
       "</div>"
      ],
      "text/plain": [
       "                 Account_Balance    Salary\n",
       "Account_Balance         1.000000  0.412682\n",
       "Salary                  0.412682  1.000000"
      ]
     },
     "execution_count": 9,
     "metadata": {},
     "output_type": "execute_result"
    }
   ],
   "source": [
    "result.corr()"
   ]
  },
  {
   "cell_type": "code",
   "execution_count": 10,
   "metadata": {},
   "outputs": [
    {
     "data": {
      "text/html": [
       "<div>\n",
       "<style scoped>\n",
       "    .dataframe tbody tr th:only-of-type {\n",
       "        vertical-align: middle;\n",
       "    }\n",
       "\n",
       "    .dataframe tbody tr th {\n",
       "        vertical-align: top;\n",
       "    }\n",
       "\n",
       "    .dataframe thead th {\n",
       "        text-align: right;\n",
       "    }\n",
       "</style>\n",
       "<table border=\"1\" class=\"dataframe\">\n",
       "  <thead>\n",
       "    <tr style=\"text-align: right;\">\n",
       "      <th></th>\n",
       "      <th>Account_Balance</th>\n",
       "      <th>Salary</th>\n",
       "    </tr>\n",
       "  </thead>\n",
       "  <tbody>\n",
       "    <tr>\n",
       "      <th>Account_Balance</th>\n",
       "      <td>8.229167e+08</td>\n",
       "      <td>1.312500e+07</td>\n",
       "    </tr>\n",
       "    <tr>\n",
       "      <th>Salary</th>\n",
       "      <td>1.312500e+07</td>\n",
       "      <td>1.229167e+06</td>\n",
       "    </tr>\n",
       "  </tbody>\n",
       "</table>\n",
       "</div>"
      ],
      "text/plain": [
       "                 Account_Balance        Salary\n",
       "Account_Balance     8.229167e+08  1.312500e+07\n",
       "Salary              1.312500e+07  1.229167e+06"
      ]
     },
     "execution_count": 10,
     "metadata": {},
     "output_type": "execute_result"
    }
   ],
   "source": [
    "result.cov()"
   ]
  },
  {
   "cell_type": "code",
   "execution_count": null,
   "metadata": {},
   "outputs": [],
   "source": []
  }
 ],
 "metadata": {
  "kernelspec": {
   "display_name": "Python 3",
   "language": "python",
   "name": "python3"
  },
  "language_info": {
   "codemirror_mode": {
    "name": "ipython",
    "version": 3
   },
   "file_extension": ".py",
   "mimetype": "text/x-python",
   "name": "python",
   "nbconvert_exporter": "python",
   "pygments_lexer": "ipython3",
   "version": "3.7.3"
  }
 },
 "nbformat": 4,
 "nbformat_minor": 2
}
